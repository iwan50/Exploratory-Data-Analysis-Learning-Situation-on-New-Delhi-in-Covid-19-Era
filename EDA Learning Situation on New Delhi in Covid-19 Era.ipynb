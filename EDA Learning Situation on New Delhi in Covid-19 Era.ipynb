{
 "cells": [
  {
   "cell_type": "markdown",
   "metadata": {},
   "source": [
    "The COVID-19 Pandemic has disrupted learning for more than 56 million students in the United States. In the Spring of 2020, most states and local governments across the U.S. closed educational institutions to stop the spread of the virus. In response, schools and teachers have attempted to reach students remotely through distance learning tools and digital platforms. Until today, concerns of the exacaberting digital divide and long-term learning loss among America’s most vulnerable learners continue to grow."
   ]
  },
  {
   "cell_type": "markdown",
   "metadata": {},
   "source": [
    "This analysis have several section:\n",
    "1. Analysis overview\n",
    "2. Data overview\n",
    "3. Pre-Processing data\n",
    "4. Statistical & Data visualization"
   ]
  },
  {
   "cell_type": "markdown",
   "metadata": {},
   "source": [
    "### Analysis Overview"
   ]
  },
  {
   "cell_type": "markdown",
   "metadata": {},
   "source": [
    "**This analysis will answer some questions**\n",
    "1. How is learning situation of students in this pandemic era\n",
    "2. How is online class situations of students in this pandemic era\n",
    "3. How is students learning behavior on each level of school"
   ]
  },
  {
   "cell_type": "markdown",
   "metadata": {},
   "source": [
    "### Data Overview"
   ]
  },
  {
   "cell_type": "markdown",
   "metadata": {},
   "source": [
    "In this study, a cross-sectional survey is conducted with a sample size of 1182 students of different age groups from different educational institutions in Delhi National Capital Region (NCR)"
   ]
  },
  {
   "cell_type": "code",
   "execution_count": 1,
   "metadata": {},
   "outputs": [],
   "source": [
    "import pandas as pd # data processing\n",
    "import numpy as np # operasi matematika"
   ]
  },
  {
   "cell_type": "code",
   "execution_count": 2,
   "metadata": {},
   "outputs": [],
   "source": [
    "df = pd.read_csv(\"COVID-19 Survey Student Responses.csv\")"
   ]
  },
  {
   "cell_type": "code",
   "execution_count": 3,
   "metadata": {},
   "outputs": [
    {
     "data": {
      "text/html": [
       "<div>\n",
       "<style scoped>\n",
       "    .dataframe tbody tr th:only-of-type {\n",
       "        vertical-align: middle;\n",
       "    }\n",
       "\n",
       "    .dataframe tbody tr th {\n",
       "        vertical-align: top;\n",
       "    }\n",
       "\n",
       "    .dataframe thead th {\n",
       "        text-align: right;\n",
       "    }\n",
       "</style>\n",
       "<table border=\"1\" class=\"dataframe\">\n",
       "  <thead>\n",
       "    <tr style=\"text-align: right;\">\n",
       "      <th></th>\n",
       "      <th>ID</th>\n",
       "      <th>Region of residence</th>\n",
       "      <th>Age of Subject</th>\n",
       "      <th>Time spent on Online Class</th>\n",
       "      <th>Rating of Online Class experience</th>\n",
       "      <th>Medium for online class</th>\n",
       "      <th>Time spent on self study</th>\n",
       "      <th>Time spent on fitness</th>\n",
       "      <th>Time spent on sleep</th>\n",
       "      <th>Time spent on social media</th>\n",
       "      <th>Prefered social media platform</th>\n",
       "      <th>Time spent on TV</th>\n",
       "      <th>Number of meals per day</th>\n",
       "      <th>Change in your weight</th>\n",
       "      <th>Health issue during lockdown</th>\n",
       "      <th>Stress busters</th>\n",
       "      <th>Time utilized</th>\n",
       "      <th>Do you find yourself more connected with your family, close friends , relatives  ?</th>\n",
       "      <th>What you miss the most</th>\n",
       "    </tr>\n",
       "  </thead>\n",
       "  <tbody>\n",
       "    <tr>\n",
       "      <th>0</th>\n",
       "      <td>R1</td>\n",
       "      <td>Delhi-NCR</td>\n",
       "      <td>21</td>\n",
       "      <td>2.0</td>\n",
       "      <td>Good</td>\n",
       "      <td>Laptop/Desktop</td>\n",
       "      <td>4.0</td>\n",
       "      <td>0.0</td>\n",
       "      <td>7.0</td>\n",
       "      <td>3.0</td>\n",
       "      <td>Linkedin</td>\n",
       "      <td>1</td>\n",
       "      <td>4</td>\n",
       "      <td>Increased</td>\n",
       "      <td>NO</td>\n",
       "      <td>Cooking</td>\n",
       "      <td>YES</td>\n",
       "      <td>YES</td>\n",
       "      <td>School/college</td>\n",
       "    </tr>\n",
       "    <tr>\n",
       "      <th>1</th>\n",
       "      <td>R2</td>\n",
       "      <td>Delhi-NCR</td>\n",
       "      <td>21</td>\n",
       "      <td>0.0</td>\n",
       "      <td>Excellent</td>\n",
       "      <td>Smartphone</td>\n",
       "      <td>0.0</td>\n",
       "      <td>2.0</td>\n",
       "      <td>10.0</td>\n",
       "      <td>3.0</td>\n",
       "      <td>Youtube</td>\n",
       "      <td>0</td>\n",
       "      <td>3</td>\n",
       "      <td>Decreased</td>\n",
       "      <td>NO</td>\n",
       "      <td>Scrolling through social media</td>\n",
       "      <td>YES</td>\n",
       "      <td>NO</td>\n",
       "      <td>Roaming around freely</td>\n",
       "    </tr>\n",
       "    <tr>\n",
       "      <th>2</th>\n",
       "      <td>R3</td>\n",
       "      <td>Delhi-NCR</td>\n",
       "      <td>20</td>\n",
       "      <td>7.0</td>\n",
       "      <td>Very poor</td>\n",
       "      <td>Laptop/Desktop</td>\n",
       "      <td>3.0</td>\n",
       "      <td>0.0</td>\n",
       "      <td>6.0</td>\n",
       "      <td>2.0</td>\n",
       "      <td>Linkedin</td>\n",
       "      <td>0</td>\n",
       "      <td>3</td>\n",
       "      <td>Remain Constant</td>\n",
       "      <td>NO</td>\n",
       "      <td>Listening to music</td>\n",
       "      <td>NO</td>\n",
       "      <td>YES</td>\n",
       "      <td>Travelling</td>\n",
       "    </tr>\n",
       "    <tr>\n",
       "      <th>3</th>\n",
       "      <td>R4</td>\n",
       "      <td>Delhi-NCR</td>\n",
       "      <td>20</td>\n",
       "      <td>3.0</td>\n",
       "      <td>Very poor</td>\n",
       "      <td>Smartphone</td>\n",
       "      <td>2.0</td>\n",
       "      <td>1.0</td>\n",
       "      <td>6.0</td>\n",
       "      <td>5.0</td>\n",
       "      <td>Instagram</td>\n",
       "      <td>0</td>\n",
       "      <td>3</td>\n",
       "      <td>Decreased</td>\n",
       "      <td>NO</td>\n",
       "      <td>Watching web series</td>\n",
       "      <td>NO</td>\n",
       "      <td>NO</td>\n",
       "      <td>Friends , relatives</td>\n",
       "    </tr>\n",
       "    <tr>\n",
       "      <th>4</th>\n",
       "      <td>R5</td>\n",
       "      <td>Delhi-NCR</td>\n",
       "      <td>21</td>\n",
       "      <td>3.0</td>\n",
       "      <td>Good</td>\n",
       "      <td>Laptop/Desktop</td>\n",
       "      <td>3.0</td>\n",
       "      <td>1.0</td>\n",
       "      <td>8.0</td>\n",
       "      <td>3.0</td>\n",
       "      <td>Instagram</td>\n",
       "      <td>1</td>\n",
       "      <td>4</td>\n",
       "      <td>Remain Constant</td>\n",
       "      <td>NO</td>\n",
       "      <td>Social Media</td>\n",
       "      <td>NO</td>\n",
       "      <td>NO</td>\n",
       "      <td>Travelling</td>\n",
       "    </tr>\n",
       "  </tbody>\n",
       "</table>\n",
       "</div>"
      ],
      "text/plain": [
       "   ID Region of residence  Age of Subject  Time spent on Online Class  \\\n",
       "0  R1           Delhi-NCR              21                         2.0   \n",
       "1  R2           Delhi-NCR              21                         0.0   \n",
       "2  R3           Delhi-NCR              20                         7.0   \n",
       "3  R4           Delhi-NCR              20                         3.0   \n",
       "4  R5           Delhi-NCR              21                         3.0   \n",
       "\n",
       "  Rating of Online Class experience Medium for online class  \\\n",
       "0                              Good          Laptop/Desktop   \n",
       "1                         Excellent              Smartphone   \n",
       "2                         Very poor          Laptop/Desktop   \n",
       "3                         Very poor              Smartphone   \n",
       "4                              Good          Laptop/Desktop   \n",
       "\n",
       "   Time spent on self study  Time spent on fitness  Time spent on sleep  \\\n",
       "0                       4.0                    0.0                  7.0   \n",
       "1                       0.0                    2.0                 10.0   \n",
       "2                       3.0                    0.0                  6.0   \n",
       "3                       2.0                    1.0                  6.0   \n",
       "4                       3.0                    1.0                  8.0   \n",
       "\n",
       "   Time spent on social media Prefered social media platform Time spent on TV  \\\n",
       "0                         3.0                       Linkedin                1   \n",
       "1                         3.0                        Youtube                0   \n",
       "2                         2.0                       Linkedin                0   \n",
       "3                         5.0                      Instagram                0   \n",
       "4                         3.0                      Instagram                1   \n",
       "\n",
       "   Number of meals per day Change in your weight Health issue during lockdown  \\\n",
       "0                        4             Increased                           NO   \n",
       "1                        3             Decreased                           NO   \n",
       "2                        3       Remain Constant                           NO   \n",
       "3                        3             Decreased                           NO   \n",
       "4                        4       Remain Constant                           NO   \n",
       "\n",
       "                   Stress busters Time utilized  \\\n",
       "0                         Cooking           YES   \n",
       "1  Scrolling through social media           YES   \n",
       "2              Listening to music            NO   \n",
       "3             Watching web series            NO   \n",
       "4                    Social Media            NO   \n",
       "\n",
       "  Do you find yourself more connected with your family, close friends , relatives  ?  \\\n",
       "0                                                YES                                   \n",
       "1                                                 NO                                   \n",
       "2                                                YES                                   \n",
       "3                                                 NO                                   \n",
       "4                                                 NO                                   \n",
       "\n",
       "  What you miss the most  \n",
       "0         School/college  \n",
       "1  Roaming around freely  \n",
       "2             Travelling  \n",
       "3    Friends , relatives  \n",
       "4             Travelling  "
      ]
     },
     "execution_count": 3,
     "metadata": {},
     "output_type": "execute_result"
    }
   ],
   "source": [
    "df.head()"
   ]
  },
  {
   "cell_type": "code",
   "execution_count": 4,
   "metadata": {},
   "outputs": [
    {
     "name": "stdout",
     "output_type": "stream",
     "text": [
      "1182 row & 19 kolom\n"
     ]
    }
   ],
   "source": [
    "x, y = df.shape\n",
    "print(f\"{x} row & {y} kolom\")"
   ]
  },
  {
   "cell_type": "markdown",
   "metadata": {},
   "source": [
    "#### We can look deeper through into data's information."
   ]
  },
  {
   "cell_type": "markdown",
   "metadata": {},
   "source": [
    "#### To answer these questions, this analysis focused on several variable\n",
    "\n",
    "*Independent Variable:*\n",
    "1. Level of school\n",
    "\n",
    "*Dependent Variable:*\n",
    "1. Time spent on online class\n",
    "2. Time spent on self study\n",
    "3. Time spent on sleep\n",
    "4. Time spent on social media\n",
    "5. Rating on online class\n",
    "6. Student self study vs social media orientation\n",
    "7. Is student has enough time for study?\n",
    "8. Is student has normal time sleep?\n",
    "9. Is student spent more time for social media + tv than self study + online class\n",
    "\n",
    "*Explanation of each variable:* (Independent variable) causes a charge in (Dependent variable)."
   ]
  },
  {
   "cell_type": "markdown",
   "metadata": {},
   "source": [
    "###### In this visualization: \n",
    "- Independent variables are as an input (n x-axis).\n",
    "- Dependent variables are as an output (y-axis).\n",
    "\n",
    "So we can compare different learning situation of each level of school's students.\n",
    "\n",
    "Example:\n",
    "Independent variable (x-axis)\n",
    "1. Subject's level of sschool (Elementary, Junior High, Senior High, College)\n",
    "\n",
    "Dependent variable (y-axis)\n",
    "1. Time spent on self study (each level of school probably has different value and we can compared to each level of school, which level of school has highest time spent on self study), etc"
   ]
  },
  {
   "cell_type": "markdown",
   "metadata": {},
   "source": [
    "#### This research will shows you:\n",
    "\n",
    "1. Statistical data about New Delhi's student in this pandemic era\n",
    "2. Data visualization of the data\n",
    "3. Finding some ideas and insight based on statistical relationship that appears in data visualization or statistical data to answer the questions\n",
    "4. Percentage's of good and bad student at the end, to gives the reader chances to has his own conclusion or hisown insight"
   ]
  },
  {
   "cell_type": "markdown",
   "metadata": {},
   "source": [
    "### Data pre-processing:"
   ]
  },
  {
   "cell_type": "code",
   "execution_count": 5,
   "metadata": {},
   "outputs": [
    {
     "name": "stdout",
     "output_type": "stream",
     "text": [
      "<class 'pandas.core.frame.DataFrame'>\n",
      "RangeIndex: 1182 entries, 0 to 1181\n",
      "Data columns (total 19 columns):\n",
      " #   Column                                                                              Non-Null Count  Dtype  \n",
      "---  ------                                                                              --------------  -----  \n",
      " 0   ID                                                                                  1182 non-null   object \n",
      " 1   Region of residence                                                                 1182 non-null   object \n",
      " 2   Age of Subject                                                                      1182 non-null   int64  \n",
      " 3   Time spent on Online Class                                                          1182 non-null   float64\n",
      " 4   Rating of Online Class experience                                                   1158 non-null   object \n",
      " 5   Medium for online class                                                             1131 non-null   object \n",
      " 6   Time spent on self study                                                            1182 non-null   float64\n",
      " 7   Time spent on fitness                                                               1182 non-null   float64\n",
      " 8   Time spent on sleep                                                                 1182 non-null   float64\n",
      " 9   Time spent on social media                                                          1182 non-null   float64\n",
      " 10  Prefered social media platform                                                      1182 non-null   object \n",
      " 11  Time spent on TV                                                                    1182 non-null   object \n",
      " 12  Number of meals per day                                                             1182 non-null   int64  \n",
      " 13  Change in your weight                                                               1182 non-null   object \n",
      " 14  Health issue during lockdown                                                        1182 non-null   object \n",
      " 15  Stress busters                                                                      1182 non-null   object \n",
      " 16  Time utilized                                                                       1182 non-null   object \n",
      " 17  Do you find yourself more connected with your family, close friends , relatives  ?  1182 non-null   object \n",
      " 18  What you miss the most                                                              1182 non-null   object \n",
      "dtypes: float64(5), int64(2), object(12)\n",
      "memory usage: 120.1+ KB\n"
     ]
    }
   ],
   "source": [
    "df.info()"
   ]
  },
  {
   "cell_type": "markdown",
   "metadata": {},
   "source": [
    "There are no missing values"
   ]
  },
  {
   "cell_type": "markdown",
   "metadata": {},
   "source": [
    "#### Classified students by age"
   ]
  },
  {
   "cell_type": "markdown",
   "metadata": {},
   "source": [
    "There is no information about education level, so we will create a new column of education level information and categorize it by age.\n",
    "- 0-12 (Elementary School)\n",
    "- 13-15 (Junior High School)\n",
    "- 16-18 (Senior High School)\n",
    "- 18 > (College) "
   ]
  },
  {
   "cell_type": "markdown",
   "metadata": {},
   "source": [
    "#### Changes rating on online class which is describe variables to numerical variables"
   ]
  },
  {
   "cell_type": "markdown",
   "metadata": {},
   "source": [
    "- Excellent is equal to 5\n",
    "- Good is equal to 4\n",
    "- Average is equal to 3\n",
    "- Poor is equal to 2\n",
    "- Very poor is equal to 1"
   ]
  },
  {
   "cell_type": "markdown",
   "metadata": {},
   "source": [
    "#### Create new column, is student spent more time on Social Media than Self Study?\n",
    "\n",
    "This column is based on spent time on social media and spent time on slef study column, if students has more time on social media, then insert \"YES\""
   ]
  },
  {
   "cell_type": "markdown",
   "metadata": {},
   "source": [
    "#### Create new column, is student has normal time of sleep?\n",
    "\n",
    "What is normal time sleep in this analysis? The American Academy of Sleep Medicine has recommended that children aged 6-12 years should regularly sleep 9-12 hours per 24 hours and teenagers ages 13-18 years should sleep 8-10 hours per 24 hours.\n",
    "\n",
    "If the subject's time sleep didn't classified into normal time sleep, then insert value \"YES\", else, insert value \"NO\""
   ]
  },
  {
   "cell_type": "code",
   "execution_count": 6,
   "metadata": {},
   "outputs": [
    {
     "data": {
      "text/plain": [
       "count    1182.000000\n",
       "mean       20.165821\n",
       "std         5.516467\n",
       "min         7.000000\n",
       "25%        17.000000\n",
       "50%        20.000000\n",
       "75%        21.000000\n",
       "max        59.000000\n",
       "Name: Age of Subject, dtype: float64"
      ]
     },
     "execution_count": 6,
     "metadata": {},
     "output_type": "execute_result"
    }
   ],
   "source": [
    "df[\"Age of Subject\"].describe()"
   ]
  },
  {
   "cell_type": "code",
   "execution_count": 7,
   "metadata": {},
   "outputs": [],
   "source": [
    "conditions_school_level = [\n",
    "    (df[\"Age of Subject\"] <= 12),\n",
    "    (df[\"Age of Subject\"] >= 13) & (df[\"Age of Subject\"] <= 15),\n",
    "    (df[\"Age of Subject\"] >= 16) & (df[\"Age of Subject\"] <= 18),\n",
    "    (df[\"Age of Subject\"] >= 19)\n",
    "]\n",
    "\n",
    "values = [\"Elementary\", \"Junior High\", \"Senior High\", \"College\"]\n",
    "\n",
    "df[\"Subject's Level of School\"] = np.select(conditions_school_level, values)"
   ]
  },
  {
   "cell_type": "code",
   "execution_count": 8,
   "metadata": {},
   "outputs": [
    {
     "data": {
      "text/plain": [
       "count          1158\n",
       "unique            5\n",
       "top       Very poor\n",
       "freq            413\n",
       "Name: Rating of Online Class experience, dtype: object"
      ]
     },
     "execution_count": 8,
     "metadata": {},
     "output_type": "execute_result"
    }
   ],
   "source": [
    "df[\"Rating of Online Class experience\"].describe()"
   ]
  },
  {
   "cell_type": "code",
   "execution_count": 9,
   "metadata": {},
   "outputs": [],
   "source": [
    "conditions_rat_online_class = [\n",
    "    df[\"Rating of Online Class experience\"] == \"Excellent\",\n",
    "    df[\"Rating of Online Class experience\"] == \"Good\",\n",
    "    df[\"Rating of Online Class experience\"] == \"Average\",\n",
    "    df[\"Rating of Online Class experience\"] == \"Poor\",\n",
    "    df[\"Rating of Online Class experience\"] == \"Very poor\",\n",
    "]\n",
    "\n",
    "values = [5,4,3,2,1]\n",
    "\n",
    "df[\"Rating of Online Class\"] = np.select(conditions_rat_online_class, values)"
   ]
  },
  {
   "cell_type": "code",
   "execution_count": 10,
   "metadata": {},
   "outputs": [],
   "source": [
    "condition_time_spent = [\n",
    "    df[\"Time spent on social media\"] > df[\"Time spent on self study\"]\n",
    "]\n",
    "\n",
    "value = [\"YES\"]\n",
    "\n",
    "df[\"Is student spent more time on Social Media than Self Study?\"] = np.select(condition_time_spent, value, default = \"NO\")"
   ]
  },
  {
   "cell_type": "code",
   "execution_count": 11,
   "metadata": {},
   "outputs": [],
   "source": [
    "condition_sleep = [\n",
    "    (df[\"Subject's Level of School\"] == \"Elementary\") & (df[\"Time spent on sleep\"] >= 9) & (df[\"Time spent on sleep\"] <= 12),\n",
    "    (df[\"Subject's Level of School\"] == \"Junior High\") & (df[\"Time spent on sleep\"] >= 8) & (df[\"Time spent on sleep\"] <= 10),\n",
    "    (df[\"Subject's Level of School\"] == \"Senior High\") & (df[\"Time spent on sleep\"] >= 8) & (df[\"Time spent on sleep\"] <= 10),\n",
    "    (df[\"Subject's Level of School\"] == \"College\") & (df[\"Time spent on sleep\"] >= 7) & (df[\"Time spent on sleep\"] <= 10)\n",
    "]\n",
    "\n",
    "value = [\"YES\",\"YES\",\"YES\",\"YES\"]\n",
    "\n",
    "df[\"Is student has normal time sleep?\"] = np.select(condition_sleep, value, default = \"NO\")"
   ]
  },
  {
   "cell_type": "code",
   "execution_count": 12,
   "metadata": {},
   "outputs": [],
   "source": [
    "df[\"Total time of study\"] = df[\"Time spent on Online Class\"] + df[\"Time spent on self study\"]"
   ]
  },
  {
   "cell_type": "code",
   "execution_count": 13,
   "metadata": {},
   "outputs": [
    {
     "data": {
      "text/html": [
       "<div>\n",
       "<style scoped>\n",
       "    .dataframe tbody tr th:only-of-type {\n",
       "        vertical-align: middle;\n",
       "    }\n",
       "\n",
       "    .dataframe tbody tr th {\n",
       "        vertical-align: top;\n",
       "    }\n",
       "\n",
       "    .dataframe thead th {\n",
       "        text-align: right;\n",
       "    }\n",
       "</style>\n",
       "<table border=\"1\" class=\"dataframe\">\n",
       "  <thead>\n",
       "    <tr style=\"text-align: right;\">\n",
       "      <th></th>\n",
       "      <th>ID</th>\n",
       "      <th>Region of residence</th>\n",
       "      <th>Age of Subject</th>\n",
       "      <th>Time spent on Online Class</th>\n",
       "      <th>Rating of Online Class experience</th>\n",
       "      <th>Medium for online class</th>\n",
       "      <th>Time spent on self study</th>\n",
       "      <th>Time spent on fitness</th>\n",
       "      <th>Time spent on sleep</th>\n",
       "      <th>Time spent on social media</th>\n",
       "      <th>...</th>\n",
       "      <th>Health issue during lockdown</th>\n",
       "      <th>Stress busters</th>\n",
       "      <th>Time utilized</th>\n",
       "      <th>Do you find yourself more connected with your family, close friends , relatives  ?</th>\n",
       "      <th>What you miss the most</th>\n",
       "      <th>Subject's Level of School</th>\n",
       "      <th>Rating of Online Class</th>\n",
       "      <th>Is student spent more time on Social Media than Self Study?</th>\n",
       "      <th>Is student has normal time sleep?</th>\n",
       "      <th>Total time of study</th>\n",
       "    </tr>\n",
       "  </thead>\n",
       "  <tbody>\n",
       "    <tr>\n",
       "      <th>0</th>\n",
       "      <td>R1</td>\n",
       "      <td>Delhi-NCR</td>\n",
       "      <td>21</td>\n",
       "      <td>2.0</td>\n",
       "      <td>Good</td>\n",
       "      <td>Laptop/Desktop</td>\n",
       "      <td>4.0</td>\n",
       "      <td>0.0</td>\n",
       "      <td>7.0</td>\n",
       "      <td>3.0</td>\n",
       "      <td>...</td>\n",
       "      <td>NO</td>\n",
       "      <td>Cooking</td>\n",
       "      <td>YES</td>\n",
       "      <td>YES</td>\n",
       "      <td>School/college</td>\n",
       "      <td>College</td>\n",
       "      <td>4</td>\n",
       "      <td>NO</td>\n",
       "      <td>YES</td>\n",
       "      <td>6.0</td>\n",
       "    </tr>\n",
       "    <tr>\n",
       "      <th>1</th>\n",
       "      <td>R2</td>\n",
       "      <td>Delhi-NCR</td>\n",
       "      <td>21</td>\n",
       "      <td>0.0</td>\n",
       "      <td>Excellent</td>\n",
       "      <td>Smartphone</td>\n",
       "      <td>0.0</td>\n",
       "      <td>2.0</td>\n",
       "      <td>10.0</td>\n",
       "      <td>3.0</td>\n",
       "      <td>...</td>\n",
       "      <td>NO</td>\n",
       "      <td>Scrolling through social media</td>\n",
       "      <td>YES</td>\n",
       "      <td>NO</td>\n",
       "      <td>Roaming around freely</td>\n",
       "      <td>College</td>\n",
       "      <td>5</td>\n",
       "      <td>YES</td>\n",
       "      <td>YES</td>\n",
       "      <td>0.0</td>\n",
       "    </tr>\n",
       "    <tr>\n",
       "      <th>2</th>\n",
       "      <td>R3</td>\n",
       "      <td>Delhi-NCR</td>\n",
       "      <td>20</td>\n",
       "      <td>7.0</td>\n",
       "      <td>Very poor</td>\n",
       "      <td>Laptop/Desktop</td>\n",
       "      <td>3.0</td>\n",
       "      <td>0.0</td>\n",
       "      <td>6.0</td>\n",
       "      <td>2.0</td>\n",
       "      <td>...</td>\n",
       "      <td>NO</td>\n",
       "      <td>Listening to music</td>\n",
       "      <td>NO</td>\n",
       "      <td>YES</td>\n",
       "      <td>Travelling</td>\n",
       "      <td>College</td>\n",
       "      <td>1</td>\n",
       "      <td>NO</td>\n",
       "      <td>NO</td>\n",
       "      <td>10.0</td>\n",
       "    </tr>\n",
       "    <tr>\n",
       "      <th>3</th>\n",
       "      <td>R4</td>\n",
       "      <td>Delhi-NCR</td>\n",
       "      <td>20</td>\n",
       "      <td>3.0</td>\n",
       "      <td>Very poor</td>\n",
       "      <td>Smartphone</td>\n",
       "      <td>2.0</td>\n",
       "      <td>1.0</td>\n",
       "      <td>6.0</td>\n",
       "      <td>5.0</td>\n",
       "      <td>...</td>\n",
       "      <td>NO</td>\n",
       "      <td>Watching web series</td>\n",
       "      <td>NO</td>\n",
       "      <td>NO</td>\n",
       "      <td>Friends , relatives</td>\n",
       "      <td>College</td>\n",
       "      <td>1</td>\n",
       "      <td>YES</td>\n",
       "      <td>NO</td>\n",
       "      <td>5.0</td>\n",
       "    </tr>\n",
       "    <tr>\n",
       "      <th>4</th>\n",
       "      <td>R5</td>\n",
       "      <td>Delhi-NCR</td>\n",
       "      <td>21</td>\n",
       "      <td>3.0</td>\n",
       "      <td>Good</td>\n",
       "      <td>Laptop/Desktop</td>\n",
       "      <td>3.0</td>\n",
       "      <td>1.0</td>\n",
       "      <td>8.0</td>\n",
       "      <td>3.0</td>\n",
       "      <td>...</td>\n",
       "      <td>NO</td>\n",
       "      <td>Social Media</td>\n",
       "      <td>NO</td>\n",
       "      <td>NO</td>\n",
       "      <td>Travelling</td>\n",
       "      <td>College</td>\n",
       "      <td>4</td>\n",
       "      <td>NO</td>\n",
       "      <td>YES</td>\n",
       "      <td>6.0</td>\n",
       "    </tr>\n",
       "  </tbody>\n",
       "</table>\n",
       "<p>5 rows × 24 columns</p>\n",
       "</div>"
      ],
      "text/plain": [
       "   ID Region of residence  Age of Subject  Time spent on Online Class  \\\n",
       "0  R1           Delhi-NCR              21                         2.0   \n",
       "1  R2           Delhi-NCR              21                         0.0   \n",
       "2  R3           Delhi-NCR              20                         7.0   \n",
       "3  R4           Delhi-NCR              20                         3.0   \n",
       "4  R5           Delhi-NCR              21                         3.0   \n",
       "\n",
       "  Rating of Online Class experience Medium for online class  \\\n",
       "0                              Good          Laptop/Desktop   \n",
       "1                         Excellent              Smartphone   \n",
       "2                         Very poor          Laptop/Desktop   \n",
       "3                         Very poor              Smartphone   \n",
       "4                              Good          Laptop/Desktop   \n",
       "\n",
       "   Time spent on self study  Time spent on fitness  Time spent on sleep  \\\n",
       "0                       4.0                    0.0                  7.0   \n",
       "1                       0.0                    2.0                 10.0   \n",
       "2                       3.0                    0.0                  6.0   \n",
       "3                       2.0                    1.0                  6.0   \n",
       "4                       3.0                    1.0                  8.0   \n",
       "\n",
       "   Time spent on social media  ... Health issue during lockdown  \\\n",
       "0                         3.0  ...                           NO   \n",
       "1                         3.0  ...                           NO   \n",
       "2                         2.0  ...                           NO   \n",
       "3                         5.0  ...                           NO   \n",
       "4                         3.0  ...                           NO   \n",
       "\n",
       "                   Stress busters  Time utilized  \\\n",
       "0                         Cooking            YES   \n",
       "1  Scrolling through social media            YES   \n",
       "2              Listening to music             NO   \n",
       "3             Watching web series             NO   \n",
       "4                    Social Media             NO   \n",
       "\n",
       "  Do you find yourself more connected with your family, close friends , relatives  ?  \\\n",
       "0                                                YES                                   \n",
       "1                                                 NO                                   \n",
       "2                                                YES                                   \n",
       "3                                                 NO                                   \n",
       "4                                                 NO                                   \n",
       "\n",
       "  What you miss the most Subject's Level of School Rating of Online Class  \\\n",
       "0         School/college                   College                      4   \n",
       "1  Roaming around freely                   College                      5   \n",
       "2             Travelling                   College                      1   \n",
       "3    Friends , relatives                   College                      1   \n",
       "4             Travelling                   College                      4   \n",
       "\n",
       "  Is student spent more time on Social Media than Self Study?  \\\n",
       "0                                                 NO            \n",
       "1                                                YES            \n",
       "2                                                 NO            \n",
       "3                                                YES            \n",
       "4                                                 NO            \n",
       "\n",
       "  Is student has normal time sleep? Total time of study  \n",
       "0                               YES                 6.0  \n",
       "1                               YES                 0.0  \n",
       "2                                NO                10.0  \n",
       "3                                NO                 5.0  \n",
       "4                               YES                 6.0  \n",
       "\n",
       "[5 rows x 24 columns]"
      ]
     },
     "execution_count": 13,
     "metadata": {},
     "output_type": "execute_result"
    }
   ],
   "source": [
    "df.head()"
   ]
  },
  {
   "cell_type": "markdown",
   "metadata": {},
   "source": [
    "#### Basic Statistical Analysis"
   ]
  },
  {
   "cell_type": "code",
   "execution_count": 14,
   "metadata": {},
   "outputs": [
    {
     "data": {
      "text/html": [
       "<div>\n",
       "<style scoped>\n",
       "    .dataframe tbody tr th:only-of-type {\n",
       "        vertical-align: middle;\n",
       "    }\n",
       "\n",
       "    .dataframe tbody tr th {\n",
       "        vertical-align: top;\n",
       "    }\n",
       "\n",
       "    .dataframe thead th {\n",
       "        text-align: right;\n",
       "    }\n",
       "</style>\n",
       "<table border=\"1\" class=\"dataframe\">\n",
       "  <thead>\n",
       "    <tr style=\"text-align: right;\">\n",
       "      <th></th>\n",
       "      <th>Age of Subject</th>\n",
       "      <th>Time spent on Online Class</th>\n",
       "      <th>Time spent on self study</th>\n",
       "      <th>Time spent on fitness</th>\n",
       "      <th>Time spent on sleep</th>\n",
       "      <th>Time spent on social media</th>\n",
       "      <th>Number of meals per day</th>\n",
       "      <th>Rating of Online Class</th>\n",
       "      <th>Total time of study</th>\n",
       "    </tr>\n",
       "  </thead>\n",
       "  <tbody>\n",
       "    <tr>\n",
       "      <th>count</th>\n",
       "      <td>1182.000000</td>\n",
       "      <td>1182.000000</td>\n",
       "      <td>1182.000000</td>\n",
       "      <td>1182.000000</td>\n",
       "      <td>1182.000000</td>\n",
       "      <td>1182.000000</td>\n",
       "      <td>1182.000000</td>\n",
       "      <td>1182.000000</td>\n",
       "      <td>1182.000000</td>\n",
       "    </tr>\n",
       "    <tr>\n",
       "      <th>mean</th>\n",
       "      <td>20.165821</td>\n",
       "      <td>3.208841</td>\n",
       "      <td>2.911591</td>\n",
       "      <td>0.765821</td>\n",
       "      <td>7.871235</td>\n",
       "      <td>2.365694</td>\n",
       "      <td>2.917936</td>\n",
       "      <td>2.575296</td>\n",
       "      <td>6.120431</td>\n",
       "    </tr>\n",
       "    <tr>\n",
       "      <th>std</th>\n",
       "      <td>5.516467</td>\n",
       "      <td>2.101756</td>\n",
       "      <td>2.140590</td>\n",
       "      <td>0.724451</td>\n",
       "      <td>1.615762</td>\n",
       "      <td>1.767336</td>\n",
       "      <td>0.828698</td>\n",
       "      <td>1.397590</td>\n",
       "      <td>3.173819</td>\n",
       "    </tr>\n",
       "    <tr>\n",
       "      <th>min</th>\n",
       "      <td>7.000000</td>\n",
       "      <td>0.000000</td>\n",
       "      <td>0.000000</td>\n",
       "      <td>0.000000</td>\n",
       "      <td>4.000000</td>\n",
       "      <td>0.000000</td>\n",
       "      <td>1.000000</td>\n",
       "      <td>0.000000</td>\n",
       "      <td>0.000000</td>\n",
       "    </tr>\n",
       "    <tr>\n",
       "      <th>25%</th>\n",
       "      <td>17.000000</td>\n",
       "      <td>2.000000</td>\n",
       "      <td>2.000000</td>\n",
       "      <td>0.000000</td>\n",
       "      <td>7.000000</td>\n",
       "      <td>1.000000</td>\n",
       "      <td>2.000000</td>\n",
       "      <td>1.000000</td>\n",
       "      <td>4.000000</td>\n",
       "    </tr>\n",
       "    <tr>\n",
       "      <th>50%</th>\n",
       "      <td>20.000000</td>\n",
       "      <td>3.000000</td>\n",
       "      <td>2.000000</td>\n",
       "      <td>1.000000</td>\n",
       "      <td>8.000000</td>\n",
       "      <td>2.000000</td>\n",
       "      <td>3.000000</td>\n",
       "      <td>3.000000</td>\n",
       "      <td>6.000000</td>\n",
       "    </tr>\n",
       "    <tr>\n",
       "      <th>75%</th>\n",
       "      <td>21.000000</td>\n",
       "      <td>5.000000</td>\n",
       "      <td>4.000000</td>\n",
       "      <td>1.000000</td>\n",
       "      <td>9.000000</td>\n",
       "      <td>3.000000</td>\n",
       "      <td>3.000000</td>\n",
       "      <td>4.000000</td>\n",
       "      <td>8.000000</td>\n",
       "    </tr>\n",
       "    <tr>\n",
       "      <th>max</th>\n",
       "      <td>59.000000</td>\n",
       "      <td>10.000000</td>\n",
       "      <td>18.000000</td>\n",
       "      <td>5.000000</td>\n",
       "      <td>15.000000</td>\n",
       "      <td>10.000000</td>\n",
       "      <td>8.000000</td>\n",
       "      <td>5.000000</td>\n",
       "      <td>22.000000</td>\n",
       "    </tr>\n",
       "  </tbody>\n",
       "</table>\n",
       "</div>"
      ],
      "text/plain": [
       "       Age of Subject  Time spent on Online Class  Time spent on self study  \\\n",
       "count     1182.000000                 1182.000000               1182.000000   \n",
       "mean        20.165821                    3.208841                  2.911591   \n",
       "std          5.516467                    2.101756                  2.140590   \n",
       "min          7.000000                    0.000000                  0.000000   \n",
       "25%         17.000000                    2.000000                  2.000000   \n",
       "50%         20.000000                    3.000000                  2.000000   \n",
       "75%         21.000000                    5.000000                  4.000000   \n",
       "max         59.000000                   10.000000                 18.000000   \n",
       "\n",
       "       Time spent on fitness  Time spent on sleep  Time spent on social media  \\\n",
       "count            1182.000000          1182.000000                 1182.000000   \n",
       "mean                0.765821             7.871235                    2.365694   \n",
       "std                 0.724451             1.615762                    1.767336   \n",
       "min                 0.000000             4.000000                    0.000000   \n",
       "25%                 0.000000             7.000000                    1.000000   \n",
       "50%                 1.000000             8.000000                    2.000000   \n",
       "75%                 1.000000             9.000000                    3.000000   \n",
       "max                 5.000000            15.000000                   10.000000   \n",
       "\n",
       "       Number of meals per day  Rating of Online Class  Total time of study  \n",
       "count              1182.000000             1182.000000          1182.000000  \n",
       "mean                  2.917936                2.575296             6.120431  \n",
       "std                   0.828698                1.397590             3.173819  \n",
       "min                   1.000000                0.000000             0.000000  \n",
       "25%                   2.000000                1.000000             4.000000  \n",
       "50%                   3.000000                3.000000             6.000000  \n",
       "75%                   3.000000                4.000000             8.000000  \n",
       "max                   8.000000                5.000000            22.000000  "
      ]
     },
     "execution_count": 14,
     "metadata": {},
     "output_type": "execute_result"
    }
   ],
   "source": [
    "df.describe()"
   ]
  },
  {
   "cell_type": "code",
   "execution_count": 15,
   "metadata": {},
   "outputs": [],
   "source": [
    "df_elementary = df[df[\"Subject's Level of School\"] == \"Elementary\"]\n",
    "df_junior = df[df[\"Subject's Level of School\"] == \"Junior High\"]\n",
    "df_senior = df[df[\"Subject's Level of School\"] == \"Senior High\"]\n",
    "df_college = df[df[\"Subject's Level of School\"] == \"College\"]"
   ]
  },
  {
   "cell_type": "code",
   "execution_count": 16,
   "metadata": {},
   "outputs": [
    {
     "data": {
      "text/html": [
       "<div>\n",
       "<style scoped>\n",
       "    .dataframe tbody tr th:only-of-type {\n",
       "        vertical-align: middle;\n",
       "    }\n",
       "\n",
       "    .dataframe tbody tr th {\n",
       "        vertical-align: top;\n",
       "    }\n",
       "\n",
       "    .dataframe thead th {\n",
       "        text-align: right;\n",
       "    }\n",
       "</style>\n",
       "<table border=\"1\" class=\"dataframe\">\n",
       "  <thead>\n",
       "    <tr style=\"text-align: right;\">\n",
       "      <th></th>\n",
       "      <th>Age of Subject</th>\n",
       "      <th>Time spent on Online Class</th>\n",
       "      <th>Time spent on self study</th>\n",
       "      <th>Time spent on fitness</th>\n",
       "      <th>Time spent on sleep</th>\n",
       "      <th>Time spent on social media</th>\n",
       "      <th>Number of meals per day</th>\n",
       "      <th>Rating of Online Class</th>\n",
       "      <th>Total time of study</th>\n",
       "    </tr>\n",
       "  </thead>\n",
       "  <tbody>\n",
       "    <tr>\n",
       "      <th>count</th>\n",
       "      <td>44.000000</td>\n",
       "      <td>44.000000</td>\n",
       "      <td>44.000000</td>\n",
       "      <td>44.000000</td>\n",
       "      <td>44.00000</td>\n",
       "      <td>44.000000</td>\n",
       "      <td>44.000000</td>\n",
       "      <td>44.000000</td>\n",
       "      <td>44.000000</td>\n",
       "    </tr>\n",
       "    <tr>\n",
       "      <th>mean</th>\n",
       "      <td>11.250000</td>\n",
       "      <td>3.556818</td>\n",
       "      <td>2.175000</td>\n",
       "      <td>0.797727</td>\n",
       "      <td>8.50000</td>\n",
       "      <td>1.488636</td>\n",
       "      <td>2.931818</td>\n",
       "      <td>4.090909</td>\n",
       "      <td>5.731818</td>\n",
       "    </tr>\n",
       "    <tr>\n",
       "      <th>std</th>\n",
       "      <td>1.296238</td>\n",
       "      <td>1.808301</td>\n",
       "      <td>0.994666</td>\n",
       "      <td>0.572830</td>\n",
       "      <td>1.81082</td>\n",
       "      <td>1.420320</td>\n",
       "      <td>0.925045</td>\n",
       "      <td>0.910359</td>\n",
       "      <td>2.326668</td>\n",
       "    </tr>\n",
       "    <tr>\n",
       "      <th>min</th>\n",
       "      <td>7.000000</td>\n",
       "      <td>0.000000</td>\n",
       "      <td>1.000000</td>\n",
       "      <td>0.000000</td>\n",
       "      <td>5.00000</td>\n",
       "      <td>0.000000</td>\n",
       "      <td>1.000000</td>\n",
       "      <td>1.000000</td>\n",
       "      <td>2.000000</td>\n",
       "    </tr>\n",
       "    <tr>\n",
       "      <th>25%</th>\n",
       "      <td>11.000000</td>\n",
       "      <td>2.000000</td>\n",
       "      <td>1.875000</td>\n",
       "      <td>0.375000</td>\n",
       "      <td>7.00000</td>\n",
       "      <td>1.000000</td>\n",
       "      <td>2.000000</td>\n",
       "      <td>3.750000</td>\n",
       "      <td>4.000000</td>\n",
       "    </tr>\n",
       "    <tr>\n",
       "      <th>50%</th>\n",
       "      <td>12.000000</td>\n",
       "      <td>4.000000</td>\n",
       "      <td>2.000000</td>\n",
       "      <td>1.000000</td>\n",
       "      <td>8.00000</td>\n",
       "      <td>1.000000</td>\n",
       "      <td>3.000000</td>\n",
       "      <td>4.000000</td>\n",
       "      <td>6.000000</td>\n",
       "    </tr>\n",
       "    <tr>\n",
       "      <th>75%</th>\n",
       "      <td>12.000000</td>\n",
       "      <td>5.000000</td>\n",
       "      <td>3.000000</td>\n",
       "      <td>1.000000</td>\n",
       "      <td>9.00000</td>\n",
       "      <td>2.000000</td>\n",
       "      <td>4.000000</td>\n",
       "      <td>5.000000</td>\n",
       "      <td>7.000000</td>\n",
       "    </tr>\n",
       "    <tr>\n",
       "      <th>max</th>\n",
       "      <td>12.000000</td>\n",
       "      <td>6.000000</td>\n",
       "      <td>5.000000</td>\n",
       "      <td>2.000000</td>\n",
       "      <td>15.00000</td>\n",
       "      <td>7.000000</td>\n",
       "      <td>4.000000</td>\n",
       "      <td>5.000000</td>\n",
       "      <td>11.000000</td>\n",
       "    </tr>\n",
       "  </tbody>\n",
       "</table>\n",
       "</div>"
      ],
      "text/plain": [
       "       Age of Subject  Time spent on Online Class  Time spent on self study  \\\n",
       "count       44.000000                   44.000000                 44.000000   \n",
       "mean        11.250000                    3.556818                  2.175000   \n",
       "std          1.296238                    1.808301                  0.994666   \n",
       "min          7.000000                    0.000000                  1.000000   \n",
       "25%         11.000000                    2.000000                  1.875000   \n",
       "50%         12.000000                    4.000000                  2.000000   \n",
       "75%         12.000000                    5.000000                  3.000000   \n",
       "max         12.000000                    6.000000                  5.000000   \n",
       "\n",
       "       Time spent on fitness  Time spent on sleep  Time spent on social media  \\\n",
       "count              44.000000             44.00000                   44.000000   \n",
       "mean                0.797727              8.50000                    1.488636   \n",
       "std                 0.572830              1.81082                    1.420320   \n",
       "min                 0.000000              5.00000                    0.000000   \n",
       "25%                 0.375000              7.00000                    1.000000   \n",
       "50%                 1.000000              8.00000                    1.000000   \n",
       "75%                 1.000000              9.00000                    2.000000   \n",
       "max                 2.000000             15.00000                    7.000000   \n",
       "\n",
       "       Number of meals per day  Rating of Online Class  Total time of study  \n",
       "count                44.000000               44.000000            44.000000  \n",
       "mean                  2.931818                4.090909             5.731818  \n",
       "std                   0.925045                0.910359             2.326668  \n",
       "min                   1.000000                1.000000             2.000000  \n",
       "25%                   2.000000                3.750000             4.000000  \n",
       "50%                   3.000000                4.000000             6.000000  \n",
       "75%                   4.000000                5.000000             7.000000  \n",
       "max                   4.000000                5.000000            11.000000  "
      ]
     },
     "execution_count": 16,
     "metadata": {},
     "output_type": "execute_result"
    }
   ],
   "source": [
    "df_elementary.describe()"
   ]
  },
  {
   "cell_type": "code",
   "execution_count": 17,
   "metadata": {},
   "outputs": [
    {
     "data": {
      "text/html": [
       "<div>\n",
       "<style scoped>\n",
       "    .dataframe tbody tr th:only-of-type {\n",
       "        vertical-align: middle;\n",
       "    }\n",
       "\n",
       "    .dataframe tbody tr th {\n",
       "        vertical-align: top;\n",
       "    }\n",
       "\n",
       "    .dataframe thead th {\n",
       "        text-align: right;\n",
       "    }\n",
       "</style>\n",
       "<table border=\"1\" class=\"dataframe\">\n",
       "  <thead>\n",
       "    <tr style=\"text-align: right;\">\n",
       "      <th></th>\n",
       "      <th>Age of Subject</th>\n",
       "      <th>Time spent on Online Class</th>\n",
       "      <th>Time spent on self study</th>\n",
       "      <th>Time spent on fitness</th>\n",
       "      <th>Time spent on sleep</th>\n",
       "      <th>Time spent on social media</th>\n",
       "      <th>Number of meals per day</th>\n",
       "      <th>Rating of Online Class</th>\n",
       "      <th>Total time of study</th>\n",
       "    </tr>\n",
       "  </thead>\n",
       "  <tbody>\n",
       "    <tr>\n",
       "      <th>count</th>\n",
       "      <td>133.000000</td>\n",
       "      <td>133.000000</td>\n",
       "      <td>133.000000</td>\n",
       "      <td>133.000000</td>\n",
       "      <td>133.000000</td>\n",
       "      <td>133.000000</td>\n",
       "      <td>133.000000</td>\n",
       "      <td>133.000000</td>\n",
       "      <td>133.000000</td>\n",
       "    </tr>\n",
       "    <tr>\n",
       "      <th>mean</th>\n",
       "      <td>13.917293</td>\n",
       "      <td>4.272556</td>\n",
       "      <td>2.848120</td>\n",
       "      <td>0.872932</td>\n",
       "      <td>8.092481</td>\n",
       "      <td>1.628195</td>\n",
       "      <td>2.894737</td>\n",
       "      <td>3.593985</td>\n",
       "      <td>7.120677</td>\n",
       "    </tr>\n",
       "    <tr>\n",
       "      <th>std</th>\n",
       "      <td>0.798152</td>\n",
       "      <td>1.732996</td>\n",
       "      <td>1.815698</td>\n",
       "      <td>0.744360</td>\n",
       "      <td>1.815240</td>\n",
       "      <td>1.340134</td>\n",
       "      <td>0.947590</td>\n",
       "      <td>1.161488</td>\n",
       "      <td>2.739602</td>\n",
       "    </tr>\n",
       "    <tr>\n",
       "      <th>min</th>\n",
       "      <td>13.000000</td>\n",
       "      <td>0.500000</td>\n",
       "      <td>0.000000</td>\n",
       "      <td>0.000000</td>\n",
       "      <td>4.000000</td>\n",
       "      <td>0.000000</td>\n",
       "      <td>1.000000</td>\n",
       "      <td>1.000000</td>\n",
       "      <td>2.000000</td>\n",
       "    </tr>\n",
       "    <tr>\n",
       "      <th>25%</th>\n",
       "      <td>13.000000</td>\n",
       "      <td>3.000000</td>\n",
       "      <td>2.000000</td>\n",
       "      <td>0.000000</td>\n",
       "      <td>7.000000</td>\n",
       "      <td>1.000000</td>\n",
       "      <td>2.000000</td>\n",
       "      <td>3.000000</td>\n",
       "      <td>5.000000</td>\n",
       "    </tr>\n",
       "    <tr>\n",
       "      <th>50%</th>\n",
       "      <td>14.000000</td>\n",
       "      <td>4.000000</td>\n",
       "      <td>2.000000</td>\n",
       "      <td>1.000000</td>\n",
       "      <td>8.000000</td>\n",
       "      <td>1.000000</td>\n",
       "      <td>3.000000</td>\n",
       "      <td>4.000000</td>\n",
       "      <td>7.000000</td>\n",
       "    </tr>\n",
       "    <tr>\n",
       "      <th>75%</th>\n",
       "      <td>15.000000</td>\n",
       "      <td>5.000000</td>\n",
       "      <td>4.000000</td>\n",
       "      <td>1.000000</td>\n",
       "      <td>9.000000</td>\n",
       "      <td>2.000000</td>\n",
       "      <td>3.000000</td>\n",
       "      <td>4.000000</td>\n",
       "      <td>8.500000</td>\n",
       "    </tr>\n",
       "    <tr>\n",
       "      <th>max</th>\n",
       "      <td>15.000000</td>\n",
       "      <td>9.000000</td>\n",
       "      <td>11.000000</td>\n",
       "      <td>3.000000</td>\n",
       "      <td>13.000000</td>\n",
       "      <td>10.000000</td>\n",
       "      <td>7.000000</td>\n",
       "      <td>5.000000</td>\n",
       "      <td>19.000000</td>\n",
       "    </tr>\n",
       "  </tbody>\n",
       "</table>\n",
       "</div>"
      ],
      "text/plain": [
       "       Age of Subject  Time spent on Online Class  Time spent on self study  \\\n",
       "count      133.000000                  133.000000                133.000000   \n",
       "mean        13.917293                    4.272556                  2.848120   \n",
       "std          0.798152                    1.732996                  1.815698   \n",
       "min         13.000000                    0.500000                  0.000000   \n",
       "25%         13.000000                    3.000000                  2.000000   \n",
       "50%         14.000000                    4.000000                  2.000000   \n",
       "75%         15.000000                    5.000000                  4.000000   \n",
       "max         15.000000                    9.000000                 11.000000   \n",
       "\n",
       "       Time spent on fitness  Time spent on sleep  Time spent on social media  \\\n",
       "count             133.000000           133.000000                  133.000000   \n",
       "mean                0.872932             8.092481                    1.628195   \n",
       "std                 0.744360             1.815240                    1.340134   \n",
       "min                 0.000000             4.000000                    0.000000   \n",
       "25%                 0.000000             7.000000                    1.000000   \n",
       "50%                 1.000000             8.000000                    1.000000   \n",
       "75%                 1.000000             9.000000                    2.000000   \n",
       "max                 3.000000            13.000000                   10.000000   \n",
       "\n",
       "       Number of meals per day  Rating of Online Class  Total time of study  \n",
       "count               133.000000              133.000000           133.000000  \n",
       "mean                  2.894737                3.593985             7.120677  \n",
       "std                   0.947590                1.161488             2.739602  \n",
       "min                   1.000000                1.000000             2.000000  \n",
       "25%                   2.000000                3.000000             5.000000  \n",
       "50%                   3.000000                4.000000             7.000000  \n",
       "75%                   3.000000                4.000000             8.500000  \n",
       "max                   7.000000                5.000000            19.000000  "
      ]
     },
     "execution_count": 17,
     "metadata": {},
     "output_type": "execute_result"
    }
   ],
   "source": [
    "df_junior.describe()"
   ]
  },
  {
   "cell_type": "code",
   "execution_count": 18,
   "metadata": {},
   "outputs": [
    {
     "data": {
      "text/html": [
       "<div>\n",
       "<style scoped>\n",
       "    .dataframe tbody tr th:only-of-type {\n",
       "        vertical-align: middle;\n",
       "    }\n",
       "\n",
       "    .dataframe tbody tr th {\n",
       "        vertical-align: top;\n",
       "    }\n",
       "\n",
       "    .dataframe thead th {\n",
       "        text-align: right;\n",
       "    }\n",
       "</style>\n",
       "<table border=\"1\" class=\"dataframe\">\n",
       "  <thead>\n",
       "    <tr style=\"text-align: right;\">\n",
       "      <th></th>\n",
       "      <th>Age of Subject</th>\n",
       "      <th>Time spent on Online Class</th>\n",
       "      <th>Time spent on self study</th>\n",
       "      <th>Time spent on fitness</th>\n",
       "      <th>Time spent on sleep</th>\n",
       "      <th>Time spent on social media</th>\n",
       "      <th>Number of meals per day</th>\n",
       "      <th>Rating of Online Class</th>\n",
       "      <th>Total time of study</th>\n",
       "    </tr>\n",
       "  </thead>\n",
       "  <tbody>\n",
       "    <tr>\n",
       "      <th>count</th>\n",
       "      <td>191.000000</td>\n",
       "      <td>191.000000</td>\n",
       "      <td>191.000000</td>\n",
       "      <td>191.000000</td>\n",
       "      <td>191.000000</td>\n",
       "      <td>191.000000</td>\n",
       "      <td>191.000000</td>\n",
       "      <td>191.000000</td>\n",
       "      <td>191.000000</td>\n",
       "    </tr>\n",
       "    <tr>\n",
       "      <th>mean</th>\n",
       "      <td>16.994764</td>\n",
       "      <td>4.091885</td>\n",
       "      <td>2.806283</td>\n",
       "      <td>0.834293</td>\n",
       "      <td>7.764398</td>\n",
       "      <td>2.107853</td>\n",
       "      <td>2.874346</td>\n",
       "      <td>2.586387</td>\n",
       "      <td>6.898168</td>\n",
       "    </tr>\n",
       "    <tr>\n",
       "      <th>std</th>\n",
       "      <td>0.836644</td>\n",
       "      <td>2.331071</td>\n",
       "      <td>1.957889</td>\n",
       "      <td>0.771355</td>\n",
       "      <td>1.604103</td>\n",
       "      <td>1.679815</td>\n",
       "      <td>0.861407</td>\n",
       "      <td>1.330462</td>\n",
       "      <td>3.324053</td>\n",
       "    </tr>\n",
       "    <tr>\n",
       "      <th>min</th>\n",
       "      <td>16.000000</td>\n",
       "      <td>0.000000</td>\n",
       "      <td>0.000000</td>\n",
       "      <td>0.000000</td>\n",
       "      <td>4.000000</td>\n",
       "      <td>0.000000</td>\n",
       "      <td>1.000000</td>\n",
       "      <td>0.000000</td>\n",
       "      <td>0.000000</td>\n",
       "    </tr>\n",
       "    <tr>\n",
       "      <th>25%</th>\n",
       "      <td>16.000000</td>\n",
       "      <td>2.000000</td>\n",
       "      <td>1.750000</td>\n",
       "      <td>0.000000</td>\n",
       "      <td>7.000000</td>\n",
       "      <td>1.000000</td>\n",
       "      <td>2.000000</td>\n",
       "      <td>1.000000</td>\n",
       "      <td>5.000000</td>\n",
       "    </tr>\n",
       "    <tr>\n",
       "      <th>50%</th>\n",
       "      <td>17.000000</td>\n",
       "      <td>4.000000</td>\n",
       "      <td>2.000000</td>\n",
       "      <td>1.000000</td>\n",
       "      <td>8.000000</td>\n",
       "      <td>2.000000</td>\n",
       "      <td>3.000000</td>\n",
       "      <td>3.000000</td>\n",
       "      <td>7.000000</td>\n",
       "    </tr>\n",
       "    <tr>\n",
       "      <th>75%</th>\n",
       "      <td>18.000000</td>\n",
       "      <td>6.000000</td>\n",
       "      <td>4.000000</td>\n",
       "      <td>1.000000</td>\n",
       "      <td>9.000000</td>\n",
       "      <td>3.000000</td>\n",
       "      <td>3.000000</td>\n",
       "      <td>4.000000</td>\n",
       "      <td>9.000000</td>\n",
       "    </tr>\n",
       "    <tr>\n",
       "      <th>max</th>\n",
       "      <td>18.000000</td>\n",
       "      <td>9.000000</td>\n",
       "      <td>12.000000</td>\n",
       "      <td>3.000000</td>\n",
       "      <td>12.000000</td>\n",
       "      <td>9.000000</td>\n",
       "      <td>7.000000</td>\n",
       "      <td>5.000000</td>\n",
       "      <td>18.000000</td>\n",
       "    </tr>\n",
       "  </tbody>\n",
       "</table>\n",
       "</div>"
      ],
      "text/plain": [
       "       Age of Subject  Time spent on Online Class  Time spent on self study  \\\n",
       "count      191.000000                  191.000000                191.000000   \n",
       "mean        16.994764                    4.091885                  2.806283   \n",
       "std          0.836644                    2.331071                  1.957889   \n",
       "min         16.000000                    0.000000                  0.000000   \n",
       "25%         16.000000                    2.000000                  1.750000   \n",
       "50%         17.000000                    4.000000                  2.000000   \n",
       "75%         18.000000                    6.000000                  4.000000   \n",
       "max         18.000000                    9.000000                 12.000000   \n",
       "\n",
       "       Time spent on fitness  Time spent on sleep  Time spent on social media  \\\n",
       "count             191.000000           191.000000                  191.000000   \n",
       "mean                0.834293             7.764398                    2.107853   \n",
       "std                 0.771355             1.604103                    1.679815   \n",
       "min                 0.000000             4.000000                    0.000000   \n",
       "25%                 0.000000             7.000000                    1.000000   \n",
       "50%                 1.000000             8.000000                    2.000000   \n",
       "75%                 1.000000             9.000000                    3.000000   \n",
       "max                 3.000000            12.000000                    9.000000   \n",
       "\n",
       "       Number of meals per day  Rating of Online Class  Total time of study  \n",
       "count               191.000000              191.000000           191.000000  \n",
       "mean                  2.874346                2.586387             6.898168  \n",
       "std                   0.861407                1.330462             3.324053  \n",
       "min                   1.000000                0.000000             0.000000  \n",
       "25%                   2.000000                1.000000             5.000000  \n",
       "50%                   3.000000                3.000000             7.000000  \n",
       "75%                   3.000000                4.000000             9.000000  \n",
       "max                   7.000000                5.000000            18.000000  "
      ]
     },
     "execution_count": 18,
     "metadata": {},
     "output_type": "execute_result"
    }
   ],
   "source": [
    "df_senior.describe()"
   ]
  },
  {
   "cell_type": "code",
   "execution_count": 19,
   "metadata": {},
   "outputs": [
    {
     "data": {
      "text/html": [
       "<div>\n",
       "<style scoped>\n",
       "    .dataframe tbody tr th:only-of-type {\n",
       "        vertical-align: middle;\n",
       "    }\n",
       "\n",
       "    .dataframe tbody tr th {\n",
       "        vertical-align: top;\n",
       "    }\n",
       "\n",
       "    .dataframe thead th {\n",
       "        text-align: right;\n",
       "    }\n",
       "</style>\n",
       "<table border=\"1\" class=\"dataframe\">\n",
       "  <thead>\n",
       "    <tr style=\"text-align: right;\">\n",
       "      <th></th>\n",
       "      <th>Age of Subject</th>\n",
       "      <th>Time spent on Online Class</th>\n",
       "      <th>Time spent on self study</th>\n",
       "      <th>Time spent on fitness</th>\n",
       "      <th>Time spent on sleep</th>\n",
       "      <th>Time spent on social media</th>\n",
       "      <th>Number of meals per day</th>\n",
       "      <th>Rating of Online Class</th>\n",
       "      <th>Total time of study</th>\n",
       "    </tr>\n",
       "  </thead>\n",
       "  <tbody>\n",
       "    <tr>\n",
       "      <th>count</th>\n",
       "      <td>814.000000</td>\n",
       "      <td>814.000000</td>\n",
       "      <td>814.000000</td>\n",
       "      <td>814.000000</td>\n",
       "      <td>814.000000</td>\n",
       "      <td>814.000000</td>\n",
       "      <td>814.000000</td>\n",
       "      <td>814.000000</td>\n",
       "      <td>814.000000</td>\n",
       "    </tr>\n",
       "    <tr>\n",
       "      <th>mean</th>\n",
       "      <td>22.412776</td>\n",
       "      <td>2.809029</td>\n",
       "      <td>2.986486</td>\n",
       "      <td>0.730528</td>\n",
       "      <td>7.826167</td>\n",
       "      <td>2.594103</td>\n",
       "      <td>2.931204</td>\n",
       "      <td>2.324324</td>\n",
       "      <td>5.795516</td>\n",
       "    </tr>\n",
       "    <tr>\n",
       "      <th>std</th>\n",
       "      <td>5.073786</td>\n",
       "      <td>1.987840</td>\n",
       "      <td>2.265944</td>\n",
       "      <td>0.715364</td>\n",
       "      <td>1.564769</td>\n",
       "      <td>1.811378</td>\n",
       "      <td>0.795241</td>\n",
       "      <td>1.343005</td>\n",
       "      <td>3.182116</td>\n",
       "    </tr>\n",
       "    <tr>\n",
       "      <th>min</th>\n",
       "      <td>19.000000</td>\n",
       "      <td>0.000000</td>\n",
       "      <td>0.000000</td>\n",
       "      <td>0.000000</td>\n",
       "      <td>4.000000</td>\n",
       "      <td>0.000000</td>\n",
       "      <td>1.000000</td>\n",
       "      <td>0.000000</td>\n",
       "      <td>0.000000</td>\n",
       "    </tr>\n",
       "    <tr>\n",
       "      <th>25%</th>\n",
       "      <td>20.000000</td>\n",
       "      <td>1.000000</td>\n",
       "      <td>2.000000</td>\n",
       "      <td>0.000000</td>\n",
       "      <td>7.000000</td>\n",
       "      <td>1.000000</td>\n",
       "      <td>2.000000</td>\n",
       "      <td>1.000000</td>\n",
       "      <td>4.000000</td>\n",
       "    </tr>\n",
       "    <tr>\n",
       "      <th>50%</th>\n",
       "      <td>21.000000</td>\n",
       "      <td>3.000000</td>\n",
       "      <td>2.000000</td>\n",
       "      <td>1.000000</td>\n",
       "      <td>8.000000</td>\n",
       "      <td>2.000000</td>\n",
       "      <td>3.000000</td>\n",
       "      <td>3.000000</td>\n",
       "      <td>6.000000</td>\n",
       "    </tr>\n",
       "    <tr>\n",
       "      <th>75%</th>\n",
       "      <td>22.000000</td>\n",
       "      <td>4.000000</td>\n",
       "      <td>4.000000</td>\n",
       "      <td>1.000000</td>\n",
       "      <td>8.000000</td>\n",
       "      <td>3.000000</td>\n",
       "      <td>3.000000</td>\n",
       "      <td>3.000000</td>\n",
       "      <td>8.000000</td>\n",
       "    </tr>\n",
       "    <tr>\n",
       "      <th>max</th>\n",
       "      <td>59.000000</td>\n",
       "      <td>10.000000</td>\n",
       "      <td>18.000000</td>\n",
       "      <td>5.000000</td>\n",
       "      <td>14.000000</td>\n",
       "      <td>10.000000</td>\n",
       "      <td>8.000000</td>\n",
       "      <td>5.000000</td>\n",
       "      <td>22.000000</td>\n",
       "    </tr>\n",
       "  </tbody>\n",
       "</table>\n",
       "</div>"
      ],
      "text/plain": [
       "       Age of Subject  Time spent on Online Class  Time spent on self study  \\\n",
       "count      814.000000                  814.000000                814.000000   \n",
       "mean        22.412776                    2.809029                  2.986486   \n",
       "std          5.073786                    1.987840                  2.265944   \n",
       "min         19.000000                    0.000000                  0.000000   \n",
       "25%         20.000000                    1.000000                  2.000000   \n",
       "50%         21.000000                    3.000000                  2.000000   \n",
       "75%         22.000000                    4.000000                  4.000000   \n",
       "max         59.000000                   10.000000                 18.000000   \n",
       "\n",
       "       Time spent on fitness  Time spent on sleep  Time spent on social media  \\\n",
       "count             814.000000           814.000000                  814.000000   \n",
       "mean                0.730528             7.826167                    2.594103   \n",
       "std                 0.715364             1.564769                    1.811378   \n",
       "min                 0.000000             4.000000                    0.000000   \n",
       "25%                 0.000000             7.000000                    1.000000   \n",
       "50%                 1.000000             8.000000                    2.000000   \n",
       "75%                 1.000000             8.000000                    3.000000   \n",
       "max                 5.000000            14.000000                   10.000000   \n",
       "\n",
       "       Number of meals per day  Rating of Online Class  Total time of study  \n",
       "count               814.000000              814.000000           814.000000  \n",
       "mean                  2.931204                2.324324             5.795516  \n",
       "std                   0.795241                1.343005             3.182116  \n",
       "min                   1.000000                0.000000             0.000000  \n",
       "25%                   2.000000                1.000000             4.000000  \n",
       "50%                   3.000000                3.000000             6.000000  \n",
       "75%                   3.000000                3.000000             8.000000  \n",
       "max                   8.000000                5.000000            22.000000  "
      ]
     },
     "execution_count": 19,
     "metadata": {},
     "output_type": "execute_result"
    }
   ],
   "source": [
    "df_college.describe()"
   ]
  },
  {
   "cell_type": "code",
   "execution_count": 20,
   "metadata": {},
   "outputs": [
    {
     "data": {
      "text/html": [
       "<div>\n",
       "<style scoped>\n",
       "    .dataframe tbody tr th:only-of-type {\n",
       "        vertical-align: middle;\n",
       "    }\n",
       "\n",
       "    .dataframe tbody tr th {\n",
       "        vertical-align: top;\n",
       "    }\n",
       "\n",
       "    .dataframe thead th {\n",
       "        text-align: right;\n",
       "    }\n",
       "</style>\n",
       "<table border=\"1\" class=\"dataframe\">\n",
       "  <thead>\n",
       "    <tr style=\"text-align: right;\">\n",
       "      <th></th>\n",
       "      <th>ID</th>\n",
       "      <th>Region of residence</th>\n",
       "      <th>Rating of Online Class experience</th>\n",
       "      <th>Medium for online class</th>\n",
       "      <th>Prefered social media platform</th>\n",
       "      <th>Time spent on TV</th>\n",
       "      <th>Change in your weight</th>\n",
       "      <th>Health issue during lockdown</th>\n",
       "      <th>Stress busters</th>\n",
       "      <th>Time utilized</th>\n",
       "      <th>Do you find yourself more connected with your family, close friends , relatives  ?</th>\n",
       "      <th>What you miss the most</th>\n",
       "      <th>Subject's Level of School</th>\n",
       "      <th>Is student spent more time on Social Media than Self Study?</th>\n",
       "      <th>Is student has normal time sleep?</th>\n",
       "    </tr>\n",
       "  </thead>\n",
       "  <tbody>\n",
       "    <tr>\n",
       "      <th>count</th>\n",
       "      <td>1182</td>\n",
       "      <td>1182</td>\n",
       "      <td>1158</td>\n",
       "      <td>1131</td>\n",
       "      <td>1182</td>\n",
       "      <td>1182</td>\n",
       "      <td>1182</td>\n",
       "      <td>1182</td>\n",
       "      <td>1182</td>\n",
       "      <td>1182</td>\n",
       "      <td>1182</td>\n",
       "      <td>1182</td>\n",
       "      <td>1182</td>\n",
       "      <td>1182</td>\n",
       "      <td>1182</td>\n",
       "    </tr>\n",
       "    <tr>\n",
       "      <th>unique</th>\n",
       "      <td>1182</td>\n",
       "      <td>2</td>\n",
       "      <td>5</td>\n",
       "      <td>5</td>\n",
       "      <td>16</td>\n",
       "      <td>25</td>\n",
       "      <td>3</td>\n",
       "      <td>2</td>\n",
       "      <td>86</td>\n",
       "      <td>2</td>\n",
       "      <td>2</td>\n",
       "      <td>51</td>\n",
       "      <td>4</td>\n",
       "      <td>2</td>\n",
       "      <td>2</td>\n",
       "    </tr>\n",
       "    <tr>\n",
       "      <th>top</th>\n",
       "      <td>R402</td>\n",
       "      <td>Delhi-NCR</td>\n",
       "      <td>Very poor</td>\n",
       "      <td>Laptop/Desktop</td>\n",
       "      <td>Instagram</td>\n",
       "      <td>0</td>\n",
       "      <td>Remain Constant</td>\n",
       "      <td>NO</td>\n",
       "      <td>Listening to music</td>\n",
       "      <td>NO</td>\n",
       "      <td>YES</td>\n",
       "      <td>School/college</td>\n",
       "      <td>College</td>\n",
       "      <td>NO</td>\n",
       "      <td>YES</td>\n",
       "    </tr>\n",
       "    <tr>\n",
       "      <th>freq</th>\n",
       "      <td>1</td>\n",
       "      <td>721</td>\n",
       "      <td>413</td>\n",
       "      <td>545</td>\n",
       "      <td>352</td>\n",
       "      <td>441</td>\n",
       "      <td>535</td>\n",
       "      <td>1021</td>\n",
       "      <td>276</td>\n",
       "      <td>608</td>\n",
       "      <td>831</td>\n",
       "      <td>379</td>\n",
       "      <td>814</td>\n",
       "      <td>803</td>\n",
       "      <td>791</td>\n",
       "    </tr>\n",
       "  </tbody>\n",
       "</table>\n",
       "</div>"
      ],
      "text/plain": [
       "          ID Region of residence Rating of Online Class experience  \\\n",
       "count   1182                1182                              1158   \n",
       "unique  1182                   2                                 5   \n",
       "top     R402           Delhi-NCR                         Very poor   \n",
       "freq       1                 721                               413   \n",
       "\n",
       "       Medium for online class Prefered social media platform  \\\n",
       "count                     1131                           1182   \n",
       "unique                       5                             16   \n",
       "top             Laptop/Desktop                      Instagram   \n",
       "freq                       545                            352   \n",
       "\n",
       "       Time spent on TV Change in your weight Health issue during lockdown  \\\n",
       "count              1182                  1182                         1182   \n",
       "unique               25                     3                            2   \n",
       "top                   0       Remain Constant                           NO   \n",
       "freq                441                   535                         1021   \n",
       "\n",
       "            Stress busters Time utilized  \\\n",
       "count                 1182          1182   \n",
       "unique                  86             2   \n",
       "top     Listening to music            NO   \n",
       "freq                   276           608   \n",
       "\n",
       "       Do you find yourself more connected with your family, close friends , relatives  ?  \\\n",
       "count                                                1182                                   \n",
       "unique                                                  2                                   \n",
       "top                                                   YES                                   \n",
       "freq                                                  831                                   \n",
       "\n",
       "       What you miss the most Subject's Level of School  \\\n",
       "count                    1182                      1182   \n",
       "unique                     51                         4   \n",
       "top            School/college                   College   \n",
       "freq                      379                       814   \n",
       "\n",
       "       Is student spent more time on Social Media than Self Study?  \\\n",
       "count                                                1182            \n",
       "unique                                                  2            \n",
       "top                                                    NO            \n",
       "freq                                                  803            \n",
       "\n",
       "       Is student has normal time sleep?  \n",
       "count                               1182  \n",
       "unique                                 2  \n",
       "top                                  YES  \n",
       "freq                                 791  "
      ]
     },
     "execution_count": 20,
     "metadata": {},
     "output_type": "execute_result"
    }
   ],
   "source": [
    "df.describe(include = \"O\")"
   ]
  },
  {
   "cell_type": "code",
   "execution_count": 21,
   "metadata": {},
   "outputs": [],
   "source": [
    "import seaborn as sns\n",
    "import matplotlib.pyplot as plt\n",
    "\n",
    "%matplotlib inline"
   ]
  },
  {
   "cell_type": "markdown",
   "metadata": {},
   "source": [
    "### Time spent on Online Class"
   ]
  },
  {
   "cell_type": "code",
   "execution_count": 22,
   "metadata": {},
   "outputs": [
    {
     "data": {
      "image/png": "[encoded data removed]",
      "text/plain": [
       "<Figure size 360x360 with 1 Axes>"
      ]
     },
     "metadata": {
      "needs_background": "light"
     },
     "output_type": "display_data"
    }
   ],
   "source": [
    "sns.catplot(x = \"Subject's Level of School\",\n",
    "           y = \"Time spent on Online Class\",\n",
    "           kind = \"point\",\n",
    "           order = [\"Elementary\",\"Junior High\",\"Senior High\",\"College\"],\n",
    "           data = df)\n",
    "plt.show()"
   ]
  },
  {
   "cell_type": "code",
   "execution_count": 23,
   "metadata": {},
   "outputs": [
    {
     "data": {
      "image/png": "[encoded data removed]",
      "text/plain": [
       "<Figure size 360x360 with 1 Axes>"
      ]
     },
     "metadata": {
      "needs_background": "light"
     },
     "output_type": "display_data"
    }
   ],
   "source": [
    "sns.catplot(x = \"Subject's Level of School\",\n",
    "           y = \"Time spent on Online Class\",\n",
    "           kind = \"violin\",\n",
    "           order = [\"Elementary\",\"Junior High\",\"Senior High\",\"College\"],\n",
    "           data = df)\n",
    "plt.show()"
   ]
  },
  {
   "cell_type": "markdown",
   "metadata": {},
   "source": [
    "#### Analysis on Time on spent on Online Class\n",
    "\n",
    "Elementary School \n",
    "- mean: 3.5 hour \n",
    "- std: 1.8 hour\n",
    "\n",
    "Junior High School\n",
    "- mean: 4.2 hour\n",
    "- std: 1.7 hour\n",
    "\n",
    "Senior High School\n",
    "- mean: 4 hour\n",
    "- std: 2.3 hour\n",
    "\n",
    "College\n",
    "- mean: 2.8 hour\n",
    "- std: 1.9 hour"
   ]
  },
  {
   "cell_type": "markdown",
   "metadata": {},
   "source": [
    "The relationship between level of school and time spent on online class is ambigous. College, which supposed to be the higher level of school, but it has lowesttime spent of online class, even lower than elementary school.\n",
    "\n",
    "Each level of school has std deviation 1.8 - 2.3 hours, std deviation means value trend thas closed to the mean value.\n",
    "\n",
    "In violin bars we can also see that the violin has long and thin shape, that's impled that school didn't has strong trend value of online learning. Student has very various amount of the time on online class.\n",
    "\n",
    "It means each level of school didn't hace standard rule about learning hour to their students, each student has varoius time spent on onlone learning."
   ]
  },
  {
   "cell_type": "markdown",
   "metadata": {},
   "source": [
    "### Rating on Online Class"
   ]
  },
  {
   "cell_type": "code",
   "execution_count": 24,
   "metadata": {},
   "outputs": [
    {
     "data": {
      "text/plain": [
       "Very poor    413\n",
       "Average      387\n",
       "Good         230\n",
       "Excellent     98\n",
       "Poor          30\n",
       "Name: Rating of Online Class experience, dtype: int64"
      ]
     },
     "execution_count": 24,
     "metadata": {},
     "output_type": "execute_result"
    }
   ],
   "source": [
    "df[\"Rating of Online Class experience\"].value_counts()"
   ]
  },
  {
   "cell_type": "code",
   "execution_count": 25,
   "metadata": {},
   "outputs": [
    {
     "data": {
      "image/png": "[encoded data removed]",
      "text/plain": [
       "<Figure size 432x288 with 1 Axes>"
      ]
     },
     "metadata": {},
     "output_type": "display_data"
    }
   ],
   "source": [
    "labels = [\"Excellent\", \"Good\", \"Average\", \"Poor\", \"Very poor\"]\n",
    "data = [30, 98, 230, 387, 413]\n",
    "\n",
    "plt.pie(data, labels = labels,\n",
    "        autopct = \"%.0f%%\"\n",
    "       )\n",
    "plt.show()"
   ]
  },
  {
   "cell_type": "code",
   "execution_count": 26,
   "metadata": {},
   "outputs": [
    {
     "data": {
      "image/png": "[encoded data removed]",
      "text/plain": [
       "<Figure size 360x360 with 1 Axes>"
      ]
     },
     "metadata": {
      "needs_background": "light"
     },
     "output_type": "display_data"
    }
   ],
   "source": [
    "sns.catplot(x = \"Subject's Level of School\",\n",
    "           y = \"Rating of Online Class\",\n",
    "           kind = \"point\",\n",
    "           order = [\"Elementary\",\"Junior High\",\"Senior High\",\"College\"],\n",
    "           data = df)\n",
    "plt.show()"
   ]
  },
  {
   "cell_type": "code",
   "execution_count": 27,
   "metadata": {},
   "outputs": [
    {
     "data": {
      "image/png": "[encoded data removed]",
      "text/plain": [
       "<Figure size 360x360 with 1 Axes>"
      ]
     },
     "metadata": {
      "needs_background": "light"
     },
     "output_type": "display_data"
    }
   ],
   "source": [
    "sns.catplot(x = \"Subject's Level of School\",\n",
    "           y = \"Rating of Online Class\",\n",
    "           kind = \"violin\",\n",
    "           order = [\"Elementary\",\"Junior High\",\"Senior High\",\"College\"],\n",
    "           data = df)\n",
    "plt.show()"
   ]
  },
  {
   "cell_type": "markdown",
   "metadata": {},
   "source": [
    "#### Analysis on Rating of Online Class experience\n",
    "\n",
    "Elementary School\n",
    "- Mean: 4.09\n",
    "- Modus: 5/5 (highest rating on Online Class experience\n",
    "- std: 0.91\n",
    "\n",
    "Junior High School\n",
    "- Mean: 3.59\n",
    "- Modus: 4/5 (good rating)\n",
    "- std: 1.16\n",
    "\n",
    "Senior High School\n",
    "- Mean: 2.58\n",
    "- Modus: 3/5 (average rating)\n",
    "- std: 1.33\n",
    "\n",
    "College\n",
    "- Mean: 2.32\n",
    "- Modus: 1/5 (bad rating on Online Class experience)\n",
    "- std: 1.33"
   ]
  },
  {
   "cell_type": "markdown",
   "metadata": {},
   "source": [
    "College students has lowest time learning on Online Class, they also even has lowest rating of online class experience. It makes **college student has worst online class quality, based on time spent of online class and rating of online class.**\n",
    "\n",
    "**Elementary students has best online class quality based on time spent of online class and rating of online class.**"
   ]
  },
  {
   "cell_type": "markdown",
   "metadata": {},
   "source": [
    "### Time spent on Self Study"
   ]
  },
  {
   "cell_type": "code",
   "execution_count": 28,
   "metadata": {},
   "outputs": [
    {
     "data": {
      "image/png": "[encoded data removed]",
      "text/plain": [
       "<Figure size 360x360 with 1 Axes>"
      ]
     },
     "metadata": {
      "needs_background": "light"
     },
     "output_type": "display_data"
    }
   ],
   "source": [
    "sns.catplot(x = \"Subject's Level of School\",\n",
    "           y = \"Time spent on self study\",\n",
    "           kind = \"point\",\n",
    "            order = [\"Elementary\",\"Junior High\",\"Senior High\",\"College\"],\n",
    "            data = df\n",
    "           )\n",
    "plt.show()"
   ]
  },
  {
   "cell_type": "code",
   "execution_count": 29,
   "metadata": {},
   "outputs": [
    {
     "data": {
      "image/png": "[encoded data removed]",
      "text/plain": [
       "<Figure size 360x360 with 1 Axes>"
      ]
     },
     "metadata": {
      "needs_background": "light"
     },
     "output_type": "display_data"
    }
   ],
   "source": [
    "sns.catplot(x = \"Subject's Level of School\",\n",
    "           y = \"Time spent on self study\",\n",
    "           kind = \"violin\",\n",
    "            order = [\"Elementary\",\"Junior High\",\"Senior High\",\"College\"],\n",
    "            data = df\n",
    "           )\n",
    "plt.show()"
   ]
  },
  {
   "cell_type": "markdown",
   "metadata": {},
   "source": [
    "Eventhough college's student has worst online class experience, but they preffered and focused on self study rather than online class"
   ]
  },
  {
   "cell_type": "markdown",
   "metadata": {},
   "source": [
    "### Total time of study"
   ]
  },
  {
   "cell_type": "code",
   "execution_count": 30,
   "metadata": {},
   "outputs": [
    {
     "data": {
      "image/png": "[encoded data removed]",
      "text/plain": [
       "<Figure size 360x360 with 1 Axes>"
      ]
     },
     "metadata": {
      "needs_background": "light"
     },
     "output_type": "display_data"
    }
   ],
   "source": [
    "sns.catplot(x = \"Subject's Level of School\",\n",
    "           y = \"Total time of study\",\n",
    "           kind = \"point\",\n",
    "            order = [\"Elementary\",\"Junior High\",\"Senior High\",\"College\"],\n",
    "            data = df\n",
    "           )\n",
    "plt.show()"
   ]
  },
  {
   "cell_type": "code",
   "execution_count": 31,
   "metadata": {},
   "outputs": [
    {
     "data": {
      "image/png": "[encoded data removed]",
      "text/plain": [
       "<Figure size 360x360 with 1 Axes>"
      ]
     },
     "metadata": {
      "needs_background": "light"
     },
     "output_type": "display_data"
    }
   ],
   "source": [
    "sns.catplot(x = \"Subject's Level of School\",\n",
    "           y = \"Total time of study\",\n",
    "           kind = \"violin\",\n",
    "            order = [\"Elementary\",\"Junior High\",\"Senior High\",\"College\"],\n",
    "            data = df\n",
    "           )\n",
    "plt.show()"
   ]
  },
  {
   "cell_type": "markdown",
   "metadata": {},
   "source": [
    "Compared to normal time study as school before pandemic. As predicted, students have low trend on time spent on study but several student have very high time spent on study"
   ]
  },
  {
   "cell_type": "markdown",
   "metadata": {},
   "source": [
    "### Time spent on sleep"
   ]
  },
  {
   "cell_type": "code",
   "execution_count": 32,
   "metadata": {},
   "outputs": [
    {
     "data": {
      "image/png": "[encoded data removed]",
      "text/plain": [
       "<Figure size 360x360 with 1 Axes>"
      ]
     },
     "metadata": {
      "needs_background": "light"
     },
     "output_type": "display_data"
    }
   ],
   "source": [
    "sns.catplot(x = \"Subject's Level of School\",\n",
    "           y = \"Time spent on sleep\",\n",
    "           kind = \"point\",\n",
    "            order = [\"Elementary\",\"Junior High\",\"Senior High\",\"College\"],\n",
    "            data = df\n",
    "           )\n",
    "plt.show()"
   ]
  },
  {
   "cell_type": "code",
   "execution_count": 33,
   "metadata": {},
   "outputs": [
    {
     "data": {
      "image/png": "[encoded data removed]",
      "text/plain": [
       "<Figure size 360x360 with 1 Axes>"
      ]
     },
     "metadata": {
      "needs_background": "light"
     },
     "output_type": "display_data"
    }
   ],
   "source": [
    "sns.catplot(x = \"Subject's Level of School\",\n",
    "           y = \"Time spent on sleep\",\n",
    "           kind = \"violin\",\n",
    "            order = [\"Elementary\",\"Junior High\",\"Senior High\",\"College\"],\n",
    "            data = df\n",
    "           )\n",
    "plt.show()"
   ]
  },
  {
   "cell_type": "markdown",
   "metadata": {},
   "source": [
    "If we looked at mean Time spent on sleep, ***All students have normal amount of time of sleep.***\n",
    "\n",
    "But if we looked at min, max, bar errors and distribution of the data a small number of student have a trend of having higher time spent on sleep (bigger than 8 hours) and less than 4 hours."
   ]
  },
  {
   "cell_type": "markdown",
   "metadata": {},
   "source": [
    "### Is student has normal time amount of sleep?"
   ]
  },
  {
   "cell_type": "code",
   "execution_count": 34,
   "metadata": {},
   "outputs": [
    {
     "data": {
      "text/plain": [
       "NO     0.590909\n",
       "YES    0.409091\n",
       "Name: Is student has normal time sleep?, dtype: float64"
      ]
     },
     "execution_count": 34,
     "metadata": {},
     "output_type": "execute_result"
    }
   ],
   "source": [
    "df_elementary[\"Is student has normal time sleep?\"].value_counts(normalize= True)"
   ]
  },
  {
   "cell_type": "code",
   "execution_count": 35,
   "metadata": {},
   "outputs": [
    {
     "data": {
      "text/plain": [
       "YES    0.526316\n",
       "NO     0.473684\n",
       "Name: Is student has normal time sleep?, dtype: float64"
      ]
     },
     "execution_count": 35,
     "metadata": {},
     "output_type": "execute_result"
    }
   ],
   "source": [
    "df_junior[\"Is student has normal time sleep?\"].value_counts(normalize= True)"
   ]
  },
  {
   "cell_type": "code",
   "execution_count": 36,
   "metadata": {},
   "outputs": [
    {
     "data": {
      "text/plain": [
       "NO     0.518325\n",
       "YES    0.481675\n",
       "Name: Is student has normal time sleep?, dtype: float64"
      ]
     },
     "execution_count": 36,
     "metadata": {},
     "output_type": "execute_result"
    }
   ],
   "source": [
    "df_senior[\"Is student has normal time sleep?\"].value_counts(normalize= True)"
   ]
  },
  {
   "cell_type": "code",
   "execution_count": 37,
   "metadata": {},
   "outputs": [
    {
     "data": {
      "text/plain": [
       "YES    0.750614\n",
       "NO     0.249386\n",
       "Name: Is student has normal time sleep?, dtype: float64"
      ]
     },
     "execution_count": 37,
     "metadata": {},
     "output_type": "execute_result"
    }
   ],
   "source": [
    "df_college[\"Is student has normal time sleep?\"].value_counts(normalize= True)"
   ]
  },
  {
   "cell_type": "code",
   "execution_count": 38,
   "metadata": {
    "scrolled": true
   },
   "outputs": [
    {
     "data": {
      "image/png": "[encoded data removed]",
      "text/plain": [
       "<Figure size 491.75x360 with 1 Axes>"
      ]
     },
     "metadata": {
      "needs_background": "light"
     },
     "output_type": "display_data"
    }
   ],
   "source": [
    "sns.catplot(x = \"Is student has normal time sleep?\",\n",
    "           hue = \"Subject's Level of School\",\n",
    "           kind = \"count\",\n",
    "           data = df)\n",
    "plt.show()"
   ]
  },
  {
   "cell_type": "markdown",
   "metadata": {},
   "source": [
    "If we compared time spent on sleep on each level of school, **60% of elementary school students have problem with their sleeping time, that's only 40% of elementary students have normal time of sleep.**\n",
    "\n",
    "It's kind of unexpected result, the college's student have better percentage of having normal time of sleep, with 75% of student having normal time amount of sleep"
   ]
  },
  {
   "cell_type": "markdown",
   "metadata": {},
   "source": [
    "### Is student spent more time on Social Media than Self Study?"
   ]
  },
  {
   "cell_type": "code",
   "execution_count": 39,
   "metadata": {},
   "outputs": [
    {
     "data": {
      "text/plain": [
       "NO     0.795455\n",
       "YES    0.204545\n",
       "Name: Is student spent more time on Social Media than Self Study?, dtype: float64"
      ]
     },
     "execution_count": 39,
     "metadata": {},
     "output_type": "execute_result"
    }
   ],
   "source": [
    "df_elementary[\"Is student spent more time on Social Media than Self Study?\"].value_counts(normalize = True)"
   ]
  },
  {
   "cell_type": "code",
   "execution_count": 40,
   "metadata": {},
   "outputs": [
    {
     "data": {
      "text/plain": [
       "NO     0.857143\n",
       "YES    0.142857\n",
       "Name: Is student spent more time on Social Media than Self Study?, dtype: float64"
      ]
     },
     "execution_count": 40,
     "metadata": {},
     "output_type": "execute_result"
    }
   ],
   "source": [
    "df_junior[\"Is student spent more time on Social Media than Self Study?\"].value_counts(normalize = True)"
   ]
  },
  {
   "cell_type": "code",
   "execution_count": 41,
   "metadata": {},
   "outputs": [
    {
     "data": {
      "text/plain": [
       "NO     0.701571\n",
       "YES    0.298429\n",
       "Name: Is student spent more time on Social Media than Self Study?, dtype: float64"
      ]
     },
     "execution_count": 41,
     "metadata": {},
     "output_type": "execute_result"
    }
   ],
   "source": [
    "df_senior[\"Is student spent more time on Social Media than Self Study?\"].value_counts(normalize = True)"
   ]
  },
  {
   "cell_type": "code",
   "execution_count": 42,
   "metadata": {},
   "outputs": [
    {
     "data": {
      "text/plain": [
       "NO     0.638821\n",
       "YES    0.361179\n",
       "Name: Is student spent more time on Social Media than Self Study?, dtype: float64"
      ]
     },
     "execution_count": 42,
     "metadata": {},
     "output_type": "execute_result"
    }
   ],
   "source": [
    "df_college[\"Is student spent more time on Social Media than Self Study?\"].value_counts(normalize = True)"
   ]
  },
  {
   "cell_type": "code",
   "execution_count": 43,
   "metadata": {},
   "outputs": [
    {
     "data": {
      "image/png": "[encoded data removed]",
      "text/plain": [
       "<Figure size 491.75x360 with 1 Axes>"
      ]
     },
     "metadata": {
      "needs_background": "light"
     },
     "output_type": "display_data"
    }
   ],
   "source": [
    "sns.catplot(x = \"Is student spent more time on Social Media than Self Study?\",\n",
    "           hue = \"Subject's Level of School\",\n",
    "           kind = \"count\",\n",
    "           data = df)\n",
    "plt.show()"
   ]
  },
  {
   "cell_type": "markdown",
   "metadata": {},
   "source": [
    "Based on percentage and visualization. **It seems students on each level of school has strong trend on prefferes to sepent their time on slef study rather than social media, which means this is very good trend for student.**"
   ]
  },
  {
   "cell_type": "markdown",
   "metadata": {},
   "source": [
    "### Health issues during Lockdown"
   ]
  },
  {
   "cell_type": "code",
   "execution_count": 44,
   "metadata": {},
   "outputs": [
    {
     "data": {
      "image/png": "[encoded data removed]",
      "text/plain": [
       "<Figure size 491.75x360 with 1 Axes>"
      ]
     },
     "metadata": {
      "needs_background": "light"
     },
     "output_type": "display_data"
    }
   ],
   "source": [
    "sns.catplot(x = \"Health issue during lockdown\",\n",
    "           hue = \"Subject's Level of School\",\n",
    "           kind = \"count\",\n",
    "           data = df)\n",
    "plt.show()"
   ]
  },
  {
   "cell_type": "markdown",
   "metadata": {},
   "source": [
    "Based on percentage and visualization, **students on each level of school has strong trend on having no health issues.**"
   ]
  },
  {
   "cell_type": "markdown",
   "metadata": {},
   "source": [
    "### Most popular social media platform in covid pandemic era based on students"
   ]
  },
  {
   "cell_type": "code",
   "execution_count": 45,
   "metadata": {},
   "outputs": [
    {
     "data": {
      "image/png": "[encoded data removed]",
      "text/plain": [
       "<Figure size 504x360 with 1 Axes>"
      ]
     },
     "metadata": {
      "needs_background": "light"
     },
     "output_type": "display_data"
    }
   ],
   "source": [
    "plt.figure(figsize = (7, 5))\n",
    "sns.countplot(x = df[\"Prefered social media platform\"],\n",
    "             order = df[\"Prefered social media platform\"].value_counts().index)\n",
    "plt.xticks(rotation = 90)\n",
    "plt.show()"
   ]
  },
  {
   "cell_type": "code",
   "execution_count": 46,
   "metadata": {},
   "outputs": [
    {
     "data": {
      "text/plain": [
       "Laptop/Desktop                  545\n",
       "Smartphone                      539\n",
       "Tablet                           37\n",
       "Smartphone or Laptop/Desktop      5\n",
       "Any Gadget                        5\n",
       "Name: Medium for online class, dtype: int64"
      ]
     },
     "execution_count": 46,
     "metadata": {},
     "output_type": "execute_result"
    }
   ],
   "source": [
    "df[\"Medium for online class\"].value_counts()"
   ]
  },
  {
   "cell_type": "markdown",
   "metadata": {},
   "source": [
    "#### Reference\n",
    "\n",
    "- Analysis by Gusanwa\n",
    "- https://www.kaggle.com/code/muhammadgusanwaakbar/covid-19-school-closures-and-learning-situation\n",
    "- https://www.youtube.com/watch?v=hPCrkvRabJs&list=WL&index=5&t=1083s&ab_channel=GusanwaTheAnalyst\n"
   ]
  }
 ],
 "metadata": {
  "kernelspec": {
   "display_name": "Python 3",
   "language": "python",
   "name": "python3"
  },
  "language_info": {
   "codemirror_mode": {
    "name": "ipython",
    "version": 3
   },
   "file_extension": ".py",
   "mimetype": "text/x-python",
   "name": "python",
   "nbconvert_exporter": "python",
   "pygments_lexer": "ipython3",
   "version": "3.8.3"
  }
 },
 "nbformat": 4,
 "nbformat_minor": 4
}
